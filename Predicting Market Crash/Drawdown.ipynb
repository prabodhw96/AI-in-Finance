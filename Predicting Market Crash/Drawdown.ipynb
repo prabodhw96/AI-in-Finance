{
 "cells": [
  {
   "cell_type": "code",
   "execution_count": 1,
   "metadata": {},
   "outputs": [],
   "source": [
    "import numpy as np\n",
    "import pandas as pd\n",
    "import matplotlib.pyplot as plt\n",
    "import seaborn as sns\n",
    "plt.style.use('ggplot')"
   ]
  },
  {
   "cell_type": "code",
   "execution_count": 3,
   "metadata": {},
   "outputs": [],
   "source": [
    "indices = [\"^GSPC.csv\", \"^N225.csv\", \"^SSEC.csv\", \"^HSI.csv\", \"^BSESN.csv\", \"^SSMI.csv\", \"^BVSP.csv\"]\n",
    "\n",
    "data = []\n",
    "for index in indices:\n",
    "    df = pd.read_csv(\"data/\"+index, index_col='Date')\n",
    "    df_t = pd.concat([df['Close'],\n",
    "                        df['Close']/df['Close'][-1],\n",
    "                        df['Close'].pct_change(),\n",
    "                        df['Close'].pct_change().rolling(10).std()], axis=1).dropna()\n",
    "    df_t.columns = [\"Price\", \"Norm\", \"Change\", \"Volume\"]\n",
    "    data.append(df_t)\n",
    "\n",
    "data[5] = data[5].loc['1990-11-09':,:]"
   ]
  },
  {
   "cell_type": "code",
   "execution_count": null,
   "metadata": {},
   "outputs": [],
   "source": []
  }
 ],
 "metadata": {
  "kernelspec": {
   "display_name": "Python 3",
   "language": "python",
   "name": "python3"
  }
 },
 "nbformat": 4,
 "nbformat_minor": 2
}
